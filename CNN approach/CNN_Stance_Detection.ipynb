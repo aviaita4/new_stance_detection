{
 "cells": [
  {
   "cell_type": "code",
   "execution_count": 109,
   "metadata": {},
   "outputs": [],
   "source": [
    "from __future__ import print_function\n",
    "from random import random\n",
    "from numpy import array\n",
    "from numpy import cumsum\n",
    "from keras.optimizers import SGD, Adam\n",
    "from keras.models import Sequential\n",
    "from keras.layers import LSTM, Embedding\n",
    "from keras.layers import Dense\n",
    "from keras.layers import TimeDistributed\n",
    "from keras.layers import Bidirectional, Concatenate, concatenate, Dropout, Input, Merge, TimeDistributed, Flatten\n",
    "from keras.layers import Convolution1D, MaxPooling1D, GlobalMaxPooling1D\n",
    "from keras.models import Model\n",
    "import data_set\n",
    "from data_set import load_embeddings, fetch_data, fetch_embeddings\n",
    "from data_set import MAX_SEQUENCE_LENGTH_HEAD\n",
    "from data_set import MAX_SEQUENCE_LENGTH_BODY\n",
    "from data_set import EMBEDDING_DIM\n",
    "from data_set import VALIDATION_SPLIT\n",
    "from data_set import MAX_NUM_WORDS, embeddings_index, labels_index\n",
    "import numpy as np\n",
    "from keras.utils import to_categorical\n",
    "import pickle\n",
    "import tensorflow as tf"
   ]
  },
  {
   "cell_type": "code",
   "execution_count": 2,
   "metadata": {},
   "outputs": [],
   "source": [
    "BASE_DIRECTORY = '/home/harsha/stance-detection'"
   ]
  },
  {
   "cell_type": "code",
   "execution_count": 3,
   "metadata": {},
   "outputs": [
    {
     "name": "stdout",
     "output_type": "stream",
     "text": [
      "Found 400000 word vectors.\n",
      "All done\n"
     ]
    }
   ],
   "source": [
    "\n",
    "load_embeddings(BASE_DIR = BASE_DIRECTORY)\n",
    "(headlines, bodies_map, labels) = fetch_data(BASE_DIR = BASE_DIRECTORY)\n"
   ]
  },
  {
   "cell_type": "code",
   "execution_count": 4,
   "metadata": {},
   "outputs": [
    {
     "name": "stdout",
     "output_type": "stream",
     "text": [
      "Preparing embedding matrix.\n",
      "All done\n"
     ]
    }
   ],
   "source": [
    "(data_head, data_body, embedding_layer_head, embedding_layer_body) = fetch_embeddings(headlines, bodies_map)"
   ]
  },
  {
   "cell_type": "code",
   "execution_count": 5,
   "metadata": {},
   "outputs": [],
   "source": [
    "pickle.dump((headlines, bodies_map, labels), open(\"train_file1.txt\", \"wb\"))\n",
    "pickle.dump((data_head, data_body, embedding_layer_head, embedding_layer_body), open(\"train_file2.txt\", \"wb\"))"
   ]
  },
  {
   "cell_type": "code",
   "execution_count": 6,
   "metadata": {},
   "outputs": [],
   "source": [
    "(headlines, bodies_map, _) = pickle.load(open(\"train_file1.txt\", \"rb\"))\n",
    "(data_head, data_body, embedding_layer_head, embedding_layer_body) = pickle.load(open(\"train_file2.txt\", \"rb\"))"
   ]
  },
  {
   "cell_type": "code",
   "execution_count": 94,
   "metadata": {
    "scrolled": true
   },
   "outputs": [
    {
     "name": "stdout",
     "output_type": "stream",
     "text": [
      "__________________________________________________________________________________________________\n",
      "Layer (type)                    Output Shape         Param #     Connected to                     \n",
      "==================================================================================================\n",
      "input_title (InputLayer)        (None, 50)           0                                            \n",
      "__________________________________________________________________________________________________\n",
      "input_body (InputLayer)         (None, 200)          0                                            \n",
      "__________________________________________________________________________________________________\n",
      "embedding_1 (Embedding)         (None, 50, 50)       194000      input_title[0][0]                \n",
      "__________________________________________________________________________________________________\n",
      "embedding_2 (Embedding)         (None, 200, 50)      1000000     input_body[0][0]                 \n",
      "__________________________________________________________________________________________________\n",
      "conv1d_106 (Conv1D)             (None, 50, 48)       12048       embedding_1[11][0]               \n",
      "__________________________________________________________________________________________________\n",
      "conv1d_111 (Conv1D)             (None, 200, 48)      12048       embedding_2[11][0]               \n",
      "__________________________________________________________________________________________________\n",
      "dropout_106 (Dropout)           (None, 50, 48)       0           conv1d_106[0][0]                 \n",
      "__________________________________________________________________________________________________\n",
      "dropout_111 (Dropout)           (None, 200, 48)      0           conv1d_111[0][0]                 \n",
      "__________________________________________________________________________________________________\n",
      "max_pooling1d_64 (MaxPooling1D) (None, 17, 48)       0           dropout_106[0][0]                \n",
      "__________________________________________________________________________________________________\n",
      "max_pooling1d_67 (MaxPooling1D) (None, 67, 48)       0           dropout_111[0][0]                \n",
      "__________________________________________________________________________________________________\n",
      "conv1d_109 (Conv1D)             (None, 17, 96)       23136       max_pooling1d_64[0][0]           \n",
      "__________________________________________________________________________________________________\n",
      "conv1d_114 (Conv1D)             (None, 67, 96)       23136       max_pooling1d_67[0][0]           \n",
      "__________________________________________________________________________________________________\n",
      "dropout_109 (Dropout)           (None, 17, 96)       0           conv1d_109[0][0]                 \n",
      "__________________________________________________________________________________________________\n",
      "dropout_114 (Dropout)           (None, 67, 96)       0           conv1d_114[0][0]                 \n",
      "__________________________________________________________________________________________________\n",
      "conv1d_110 (Conv1D)             (None, 17, 144)      69264       dropout_109[0][0]                \n",
      "__________________________________________________________________________________________________\n",
      "conv1d_115 (Conv1D)             (None, 67, 144)      69264       dropout_114[0][0]                \n",
      "__________________________________________________________________________________________________\n",
      "dropout_110 (Dropout)           (None, 17, 144)      0           conv1d_110[0][0]                 \n",
      "__________________________________________________________________________________________________\n",
      "dropout_115 (Dropout)           (None, 67, 144)      0           conv1d_115[0][0]                 \n",
      "__________________________________________________________________________________________________\n",
      "global_max_pooling1d_23 (Global (None, 144)          0           dropout_110[0][0]                \n",
      "__________________________________________________________________________________________________\n",
      "global_max_pooling1d_24 (Global (None, 144)          0           dropout_115[0][0]                \n",
      "__________________________________________________________________________________________________\n",
      "concatenate_12 (Concatenate)    (None, 288)          0           global_max_pooling1d_23[0][0]    \n",
      "                                                                 global_max_pooling1d_24[0][0]    \n",
      "__________________________________________________________________________________________________\n",
      "dense_34 (Dense)                (None, 192)          55488       concatenate_12[0][0]             \n",
      "__________________________________________________________________________________________________\n",
      "dense_36 (Dense)                (None, 96)           18528       dense_34[0][0]                   \n",
      "__________________________________________________________________________________________________\n",
      "out (Dense)                     (None, 4)            388         dense_36[0][0]                   \n",
      "==================================================================================================\n",
      "Total params: 1,477,300\n",
      "Trainable params: 283,300\n",
      "Non-trainable params: 1,194,000\n",
      "__________________________________________________________________________________________________\n"
     ]
    }
   ],
   "source": [
    "#Define model architecture\n",
    "\n",
    "#Declare Layers\n",
    "n_classes = 4\n",
    "emb_size = EMBEDDING_DIM\n",
    "n_hidden = 48\n",
    "width = 5\n",
    "\n",
    "#ConvH\n",
    "convh_0  = Convolution1D(filters = n_hidden, kernel_size = width, activation='relu', padding='same')\n",
    "convh_1  = Convolution1D(filters = n_hidden, kernel_size = width, activation='relu', padding='same')\n",
    "convh_2  = Convolution1D(filters = 2*n_hidden, kernel_size = width, activation='relu', padding='same')\n",
    "convh_3  = Convolution1D(filters = 2*n_hidden, kernel_size = width, activation='relu', padding='same')\n",
    "convh_4  = Convolution1D(filters = 3*n_hidden, kernel_size = width, activation='relu', padding='same')\n",
    "\n",
    "#ConvB\n",
    "convb_0  = Convolution1D(filters = n_hidden, kernel_size = width, activation='relu', padding='same')\n",
    "convb_1  = Convolution1D(filters = n_hidden, kernel_size = width, activation='relu', padding='same')\n",
    "convb_2  = Convolution1D(filters = 2*n_hidden, kernel_size = width, activation='relu', padding='same')\n",
    "convb_3  = Convolution1D(filters = 2*n_hidden, kernel_size = width, activation='relu', padding='same')\n",
    "convb_4  = Convolution1D(filters = 3*n_hidden, kernel_size = width, activation='relu', padding='same')\n",
    "\n",
    "#Dense\n",
    "dense_0 = Dense(n_hidden*4, activation='relu')\n",
    "dense_1 = Dense(n_hidden*4, activation='relu')\n",
    "dense_2 = Dense(n_hidden*2, activation='relu')\n",
    "dense_f = Dense(n_classes, activation='softmax', name='out')\n",
    "\n",
    "#Dropout\n",
    "dperc = 0.5\n",
    "\n",
    "#DropH\n",
    "droph_0 = Dropout(dperc)\n",
    "droph_1 = Dropout(dperc)\n",
    "droph_2 = Dropout(dperc)\n",
    "droph_3 = Dropout(dperc)\n",
    "droph_4 = Dropout(dperc)\n",
    "\n",
    "#DropB\n",
    "dropb_0 = Dropout(dperc)\n",
    "dropb_1 = Dropout(dperc)\n",
    "dropb_2 = Dropout(dperc)\n",
    "dropb_3 = Dropout(dperc)\n",
    "dropb_4 = Dropout(dperc)\n",
    "\n",
    "#PoolingH\n",
    "poolh_0 = MaxPooling1D(pool_size=3, padding='same')\n",
    "poolh_1 = MaxPooling1D(pool_size=3, padding='same')\n",
    "poolh_2 = MaxPooling1D(pool_size=3, padding='same')\n",
    "\n",
    "#PoolingB\n",
    "poolb_0 = MaxPooling1D(pool_size=3, padding='same')\n",
    "poolb_1 = MaxPooling1D(pool_size=3, padding='same')\n",
    "poolb_2 = MaxPooling1D(pool_size=3, padding='same')\n",
    "\n",
    "#Input formats\n",
    "input_title   = Input(shape=(MAX_SEQUENCE_LENGTH_HEAD, ), dtype='int32', name='input_title')\n",
    "input_body   = Input(shape=(MAX_SEQUENCE_LENGTH_BODY, ), dtype='int32', name='input_body')\n",
    "\n",
    "#Create Layers - Title\n",
    "x = input_title\n",
    "x = embedding_layer_head(x)\n",
    "x = convh_0(x)\n",
    "x = droph_0(x)\n",
    "x = poolh_0(x)\n",
    "#x = convh_1(x)\n",
    "#x = droph_1(x)\n",
    "#x = poolh_1(x)\n",
    "#x = convh_2(x)\n",
    "#x = droph_2(x)\n",
    "#x = poolh_2(x)\n",
    "x = convh_3(x)\n",
    "x = droph_3(x)\n",
    "x = convh_4(x)\n",
    "x = droph_4(x)\n",
    "\n",
    "#Create Layers - Body\n",
    "y = input_body\n",
    "y = embedding_layer_body(y)\n",
    "y = convb_0(y)\n",
    "y = dropb_0(y)\n",
    "y = poolb_0(y)\n",
    "#y = convb_1(y)\n",
    "#y = dropb_1(y)\n",
    "#y = poolb_1(y)\n",
    "#y = convb_2(y)\n",
    "#y = dropb_2(y)\n",
    "#y = poolb_2(y)\n",
    "y = convb_3(y)\n",
    "y = dropb_3(y)\n",
    "y = convb_4(y)\n",
    "y = dropb_4(y)\n",
    "\n",
    "#Max selection\n",
    "x = GlobalMaxPooling1D()(x)\n",
    "y = GlobalMaxPooling1D()(y)\n",
    "\n",
    "#Concatenate Layers\n",
    "z = concatenate([x, y])\n",
    "#z = Merge(mode=\"concat\",name=\"concat_layer\")([x_new, y_new])\n",
    "\n",
    "#Create Dense layers\n",
    "z = dense_0(z)\n",
    "#z = dense_1(z)\n",
    "z = dense_2(z)\n",
    "\n",
    "#Output layer\n",
    "out = dense_f(z)\n",
    "\n",
    "#Summary\n",
    "model = Model(inputs=[input_title, input_body], outputs=[out])\n",
    "model.summary()"
   ]
  },
  {
   "cell_type": "code",
   "execution_count": 73,
   "metadata": {},
   "outputs": [],
   "source": [
    "from keras.utils import plot_model\n",
    "import pydot_ng as pydot\n",
    "plot_model(model, to_file='model.png')"
   ]
  },
  {
   "cell_type": "code",
   "execution_count": 74,
   "metadata": {
    "scrolled": true
   },
   "outputs": [
    {
     "data": {
      "image/png": "[encoded data removed]",
      "text/plain": [
       "<IPython.core.display.Image object>"
      ]
     },
     "execution_count": 74,
     "metadata": {},
     "output_type": "execute_result"
    }
   ],
   "source": [
    "from IPython.display import Image\n",
    "Image(filename='model.png') "
   ]
  },
  {
   "cell_type": "code",
   "execution_count": 113,
   "metadata": {},
   "outputs": [],
   "source": [
    "import keras.backend as K\n",
    "def w_categorical_crossentropy(y_true, y_pred):\n",
    "    print(y_true, y_pred)\n",
    "    p0 = tf.map_fn(lambda x:x[0], y_pred, dtype=tf.float32)\n",
    "    import math\n",
    "    loss = -tf.log(p0)\n",
    "    param = 1\n",
    "    sumP = y_pred[:,1] + y_pred[:,2] + y_pred[:,3]\n",
    "    for i in range(1,4):\n",
    "        loss += (-(y_true[:,i]*tf.log(1-p0)) - param*(y_true[:,i]*tf.log(y_pred[:,i]/())))\n",
    "    return loss"
   ]
  },
  {
   "cell_type": "code",
   "execution_count": 114,
   "metadata": {},
   "outputs": [
    {
     "name": "stdout",
     "output_type": "stream",
     "text": [
      "Tensor(\"out_target_28:0\", shape=(?, ?), dtype=float32) Tensor(\"out_11/Softmax:0\", shape=(?, 4), dtype=float32)\n"
     ]
    }
   ],
   "source": [
    "#Compile\n",
    "optimizer = Adam(lr=0.001, beta_1=0.99, beta_2=0.999, epsilon=1e-08) # Optimization hyperparameters.\n",
    "# from functools import partial\n",
    "model.compile(optimizer=optimizer,\n",
    "              loss = w_categorical_crossentropy,\n",
    "#               loss_weights={'out': 1.0}, # These can be tuned.\n",
    "              metrics=['accuracy'])\n",
    "#lr=0.0002, b1=0.1, b2=0.001, e=1e-8"
   ]
  },
  {
   "cell_type": "code",
   "execution_count": 125,
   "metadata": {},
   "outputs": [],
   "source": [
    "# ORIGINAL\n",
    "\n",
    "optimizer = Adam(lr=0.001, beta_1=0.99, beta_2=0.999, epsilon=1e-08) # Optimization hyperparameters.\n",
    "\n",
    "model.compile(optimizer=optimizer,\n",
    "              loss={'out':'categorical_crossentropy'},\n",
    "              loss_weights={'out': 1.0}, # These can be tuned.\n",
    "              metrics=['accuracy'])"
   ]
  },
  {
   "cell_type": "code",
   "execution_count": 126,
   "metadata": {
    "scrolled": true
   },
   "outputs": [
    {
     "name": "stdout",
     "output_type": "stream",
     "text": [
      "Epoch 1/10\n",
      "49972/49972 [==============================] - 42s 836us/step - loss: 0.7317 - acc: 0.7344\n",
      "Epoch 2/10\n",
      "49972/49972 [==============================] - 40s 802us/step - loss: 0.5867 - acc: 0.7660\n",
      "Epoch 3/10\n",
      "49972/49972 [==============================] - 40s 799us/step - loss: 0.5296 - acc: 0.7879\n",
      "Epoch 4/10\n",
      "49972/49972 [==============================] - 40s 810us/step - loss: 0.4937 - acc: 0.8037\n",
      "Epoch 5/10\n",
      "49972/49972 [==============================] - 42s 840us/step - loss: 0.4697 - acc: 0.8142\n",
      "Epoch 6/10\n",
      "49972/49972 [==============================] - 95s 2ms/step - loss: 0.4496 - acc: 0.8204\n",
      "Epoch 7/10\n",
      "49972/49972 [==============================] - 95s 2ms/step - loss: 0.4362 - acc: 0.8270\n",
      "Epoch 8/10\n",
      "49972/49972 [==============================] - 94s 2ms/step - loss: 0.4288 - acc: 0.8302\n",
      "Epoch 9/10\n",
      "49972/49972 [==============================] - 93s 2ms/step - loss: 0.4190 - acc: 0.8350\n",
      "Epoch 10/10\n",
      "49972/49972 [==============================] - 84s 2ms/step - loss: 0.4138 - acc: 0.8408\n"
     ]
    },
    {
     "data": {
      "text/plain": [
       "<keras.callbacks.History at 0x7f79f006a7b8>"
      ]
     },
     "execution_count": 126,
     "metadata": {},
     "output_type": "execute_result"
    }
   ],
   "source": [
    "#Train and Validate\n",
    "labels = to_categorical(np.asarray(list(zip(*headlines))[2]))\n",
    "#class_weight = { 0: 10., 1: 1., 2: 1., 3: 2.}\n",
    "model.fit([data_head, data_body], labels, batch_size=12, epochs=10)#, class_weight = class_weight)"
   ]
  },
  {
   "cell_type": "code",
   "execution_count": 128,
   "metadata": {},
   "outputs": [
    {
     "data": {
      "text/plain": [
       "array([[30672,  2812,     0,  3061],\n",
       "       [   89,  2823,     0,   766],\n",
       "       [   21,   519,     0,   300],\n",
       "       [  228,  1212,     0,  7469]])"
      ]
     },
     "execution_count": 128,
     "metadata": {},
     "output_type": "execute_result"
    }
   ],
   "source": [
    "#Confusion matrix - Train\n",
    "train_y_pred = model.predict([data_head, data_body])\n",
    "train_labels = to_categorical(np.asarray(list(zip(*headlines))[2]))\n",
    "train_lab = np.argmax(train_labels, axis = 1)\n",
    "train_pred = np.argmax(train_y_pred, axis = 1)\n",
    "from sklearn.metrics import confusion_matrix\n",
    "confusion_matrix(train_lab, train_pred)"
   ]
  },
  {
   "cell_type": "code",
   "execution_count": 52,
   "metadata": {},
   "outputs": [
    {
     "data": {
      "text/plain": [
       "array([[9.11714315e-01, 1.65717937e-02, 1.05153501e-03, 7.06623346e-02],\n",
       "       [7.58208752e-01, 5.77269383e-02, 1.12333484e-02, 1.72830939e-01],\n",
       "       [9.98502851e-01, 8.88144205e-05, 8.77892816e-08, 1.40822795e-03],\n",
       "       ...,\n",
       "       [6.11970067e-01, 1.01347655e-01, 3.62224430e-02, 2.50459790e-01],\n",
       "       [6.94301665e-01, 7.65733346e-02, 1.99120883e-02, 2.09212944e-01],\n",
       "       [9.91910160e-01, 7.90554564e-04, 4.34440472e-06, 7.29487650e-03]],\n",
       "      dtype=float32)"
      ]
     },
     "execution_count": 52,
     "metadata": {},
     "output_type": "execute_result"
    }
   ],
   "source": [
    "train_y_pred"
   ]
  },
  {
   "cell_type": "code",
   "execution_count": 12,
   "metadata": {},
   "outputs": [
    {
     "name": "stdout",
     "output_type": "stream",
     "text": [
      "All done\n",
      "Preparing embedding matrix.\n",
      "All done\n"
     ]
    }
   ],
   "source": [
    "(test_headlines, test_bodies_map, test_labels) = fetch_data(mode = 'test', BASE_DIR = BASE_DIRECTORY)\n",
    "(test_data_head, test_data_body, test_embedding_layer_head, test_embedding_layer_body) = fetch_embeddings(test_headlines, test_bodies_map)"
   ]
  },
  {
   "cell_type": "code",
   "execution_count": 13,
   "metadata": {},
   "outputs": [],
   "source": [
    "pickle.dump((test_headlines, test_bodies_map, test_labels), open(\"test_file1.txt\", \"wb\"))\n",
    "pickle.dump((test_data_head, test_data_body, test_embedding_layer_head, test_embedding_layer_body), open(\"test_file2.txt\", \"wb\"))"
   ]
  },
  {
   "cell_type": "code",
   "execution_count": 129,
   "metadata": {},
   "outputs": [],
   "source": [
    "(test_headlines, test_bodies_map, _) = pickle.load(open(\"test_file1.txt\", \"rb\"))\n",
    "(test_data_head, test_data_body, test_embedding_layer_head, test_embedding_layer_body) = pickle.load(open(\"test_file2.txt\", \"rb\"))"
   ]
  },
  {
   "cell_type": "code",
   "execution_count": 130,
   "metadata": {},
   "outputs": [
    {
     "data": {
      "text/plain": [
       "array([[7643, 3855,    0, 6851],\n",
       "       [ 815,  391,    0,  697],\n",
       "       [ 348,  120,    0,  229],\n",
       "       [1702, 1023,    0, 1739]])"
      ]
     },
     "execution_count": 130,
     "metadata": {},
     "output_type": "execute_result"
    }
   ],
   "source": [
    "#Confusion matrix - Test\n",
    "test_y_pred = model.predict([test_data_head, test_data_body])\n",
    "test_labels = to_categorical(np.asarray(list(zip(*test_headlines))[2]))\n",
    "test_lab = np.argmax(test_labels, axis = 1)\n",
    "pred = np.argmax(test_y_pred, axis = 1)\n",
    "from sklearn.metrics import confusion_matrix\n",
    "confusion_matrix(test_lab, pred)"
   ]
  },
  {
   "cell_type": "code",
   "execution_count": 16,
   "metadata": {
    "scrolled": true
   },
   "outputs": [],
   "source": [
    "model.save_weights('32b_10e.txt')"
   ]
  },
  {
   "cell_type": "code",
   "execution_count": 17,
   "metadata": {},
   "outputs": [],
   "source": [
    "import h5py"
   ]
  },
  {
   "cell_type": "code",
   "execution_count": 120,
   "metadata": {},
   "outputs": [
    {
     "data": {
      "text/plain": [
       "array([0, 0, 0, 0, 0, 0, 0, 0, 0, 0, 1, 0, 3, 0, 3, 1, 0, 0, 0, 0, 3, 1,\n",
       "       1, 2, 3, 0, 0, 3, 0, 1, 0, 0, 0, 0, 3, 0, 0, 0, 0, 0, 0, 0, 0, 0,\n",
       "       0, 0, 0, 0, 3, 0, 3, 0, 0, 0, 0, 3, 0, 3, 0, 0, 0, 0, 3, 0, 0, 0,\n",
       "       1, 0, 0, 0, 1, 0, 1, 0, 1, 0, 3, 0, 3, 0, 0, 3, 3, 0, 0, 0, 0, 0,\n",
       "       0, 2, 2, 0, 0, 1, 0, 0, 0, 0, 0, 0])"
      ]
     },
     "execution_count": 120,
     "metadata": {},
     "output_type": "execute_result"
    }
   ],
   "source": [
    "test_lab[:100]"
   ]
  },
  {
   "cell_type": "code",
   "execution_count": 121,
   "metadata": {},
   "outputs": [
    {
     "data": {
      "text/plain": [
       "array([3, 0, 1, 3, 0, 1, 0, 1, 3, 0, 1, 0, 0, 0, 1, 3, 1, 3, 0, 0, 0, 1,\n",
       "       3, 0, 1, 3, 0, 3, 0, 1, 3, 0, 3, 0, 3, 0, 0, 1, 3, 1, 1, 3, 0, 3,\n",
       "       0, 3, 0, 0, 3, 0, 1, 1, 3, 0, 1, 3, 0, 1, 3, 0, 0, 0, 1, 3, 3, 3,\n",
       "       1, 1, 0, 1, 0, 3, 1, 1, 3, 0, 0, 3, 1, 1, 0, 0, 0, 0, 1, 0, 3, 3,\n",
       "       1, 1, 3, 0, 3, 1, 1, 3, 3, 3, 0, 1])"
      ]
     },
     "execution_count": 121,
     "metadata": {},
     "output_type": "execute_result"
    }
   ],
   "source": [
    "pred[:100]"
   ]
  },
  {
   "cell_type": "code",
   "execution_count": 123,
   "metadata": {},
   "outputs": [
    {
     "name": "stdout",
     "output_type": "stream",
     "text": [
      "[ True  True  True ...  True  True  True]\n"
     ]
    }
   ],
   "source": [
    "print(test_lab==pred)"
   ]
  },
  {
   "cell_type": "code",
   "execution_count": 131,
   "metadata": {},
   "outputs": [],
   "source": [
    "def fnc_score(C):\n",
    "    score = 0\n",
    "    score += C[0][0]*0.25\n",
    "    score += 0.25*(sum(sum(C[1:, 1:])))\n",
    "    score += 0.75*(C[1][1] + C[2][2] + C[3][3])\n",
    "    return score"
   ]
  },
  {
   "cell_type": "code",
   "execution_count": 132,
   "metadata": {},
   "outputs": [
    {
     "data": {
      "text/plain": [
       "4558.0"
      ]
     },
     "execution_count": 132,
     "metadata": {},
     "output_type": "execute_result"
    }
   ],
   "source": [
    "fnc_score(array([[7643, 3855,    0, 6851],\n",
    "       [ 815,  391,    0,  697],\n",
    "       [ 348,  120,    0,  229],\n",
    "       [1702, 1023,    0, 1739]]))"
   ]
  },
  {
   "cell_type": "code",
   "execution_count": null,
   "metadata": {},
   "outputs": [],
   "source": []
  }
 ],
 "metadata": {
  "kernelspec": {
   "display_name": "Python 3",
   "language": "python",
   "name": "python3"
  },
  "language_info": {
   "codemirror_mode": {
    "name": "ipython",
    "version": 3
   },
   "file_extension": ".py",
   "mimetype": "text/x-python",
   "name": "python",
   "nbconvert_exporter": "python",
   "pygments_lexer": "ipython3",
   "version": "3.5.2"
  }
 },
 "nbformat": 4,
 "nbformat_minor": 2
}
